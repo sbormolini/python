{
 "cells": [
  {
   "cell_type": "code",
   "execution_count": 6,
   "metadata": {
    "dotnet_interactive": {
     "language": "csharp"
    }
   },
   "outputs": [],
   "source": [
    "import requests\n",
    "import warnings\n",
    "import sys\n",
    "\n",
    "# workaround to supress warnings\n",
    "if not sys.warnoptions:\n",
    "    warnings.simplefilter(\"ignore\")"
   ]
  },
  {
   "cell_type": "code",
   "execution_count": 7,
   "metadata": {
    "dotnet_interactive": {
     "language": "csharp"
    }
   },
   "outputs": [],
   "source": [
    "# api ~\\Workspace\\.NET\\ApiEndpointsDemo\n",
    "api_url = 'https://localhost:7174/'"
   ]
  },
  {
   "cell_type": "code",
   "execution_count": 8,
   "metadata": {},
   "outputs": [],
   "source": [
    " # get first customer from api\n",
    "uri = api_url + 'Customers/f50ec0b7-f960-400d-91f0-c42a6d44e3d0'\n",
    "response = requests.get(uri, verify=False)\n",
    "customer = response.json()"
   ]
  },
  {
   "cell_type": "code",
   "execution_count": 9,
   "metadata": {},
   "outputs": [
    {
     "name": "stdout",
     "output_type": "stream",
     "text": [
      "f50ec0b7-f960-400d-91f0-c42a6d44e3d0\n"
     ]
    }
   ],
   "source": [
    "print(customer[\"id\"])"
   ]
  },
  {
   "cell_type": "code",
   "execution_count": 10,
   "metadata": {},
   "outputs": [
    {
     "name": "stdout",
     "output_type": "stream",
     "text": [
      "Microsoft\n"
     ]
    }
   ],
   "source": [
    "print(customer[\"fullName\"])"
   ]
  }
 ],
 "metadata": {
  "interpreter": {
   "hash": "6a89a67737fa9ca43ac04fdbb411dce11dbea46ca14ec32a10728d3fed1627ea"
  },
  "kernelspec": {
   "display_name": ".NET (C#)",
   "language": "python",
   "name": "python3"
  },
  "language_info": {
   "codemirror_mode": {
    "name": "ipython",
    "version": 3
   },
   "file_extension": ".py",
   "mimetype": "text/x-python",
   "name": "python",
   "nbconvert_exporter": "python",
   "pygments_lexer": "ipython3",
   "version": "3.10.2"
  },
  "orig_nbformat": 4
 },
 "nbformat": 4,
 "nbformat_minor": 2
}
