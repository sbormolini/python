{
 "cells": [
  {
   "cell_type": "markdown",
   "metadata": {},
   "source": [
    "# dict comprehensions\n",
    "dict comprehensions can be used to create dictionaries from arbitrary key and value expressions<br>\n",
    "https://docs.python.org/3/tutorial/datastructures.html<br>\n",
    "code source: https://www.youtube.com/shorts/h1eXDDO_DT8 @b001"
   ]
  },
  {
   "cell_type": "code",
   "execution_count": 1,
   "metadata": {},
   "outputs": [
    {
     "name": "stdout",
     "output_type": "stream",
     "text": [
      "{'Potion': 5, 'Shield': 1, 'Sword': 2}\n"
     ]
    }
   ],
   "source": [
    "inv = {\n",
    "    'Sword': 1,\n",
    "    'Potion': 3\n",
    "}\n",
    "\n",
    "loot = {\n",
    "    'Sword': 1,\n",
    "    'Potion': 2,\n",
    "    'Shield': 1\n",
    "}\n",
    "\n",
    "new_inv = {\n",
    "    k: inv.get(k, 0) + loot.get(k, 0) for k in set(inv) | set(loot)\n",
    "}\n",
    "\n",
    "print(new_inv)"
   ]
  }
 ],
 "metadata": {
  "kernelspec": {
   "display_name": "Python 3",
   "language": "python",
   "name": "python3"
  },
  "language_info": {
   "codemirror_mode": {
    "name": "ipython",
    "version": 3
   },
   "file_extension": ".py",
   "mimetype": "text/x-python",
   "name": "python",
   "nbconvert_exporter": "python",
   "pygments_lexer": "ipython3",
   "version": "3.12.0"
  }
 },
 "nbformat": 4,
 "nbformat_minor": 2
}
